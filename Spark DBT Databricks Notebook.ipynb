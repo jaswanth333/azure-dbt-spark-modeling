{
 "cells": [
  {
   "cell_type": "code",
   "execution_count": 0,
   "metadata": {
    "application/vnd.databricks.v1+cell": {
     "cellMetadata": {},
     "inputWidgets": {},
     "nuid": "8c364365-ee96-4d48-9bdf-3e7a056bdb0c",
     "showTitle": false,
     "title": ""
    }
   },
   "outputs": [],
   "source": [
    "filename=dbutils.widgets.get('filename')\n",
    "tablename=dbutils.widgets.get('tablename')\n",
    "tableschema=dbutils.widgets.get('tableschema')"
   ]
  },
  {
   "cell_type": "code",
   "execution_count": 0,
   "metadata": {
    "application/vnd.databricks.v1+cell": {
     "cellMetadata": {
      "byteLimit": 2048000,
      "rowLimit": 10000
     },
     "inputWidgets": {},
     "nuid": "7f600294-690b-4ef8-9bb5-d805ee8d9eeb",
     "showTitle": false,
     "title": ""
    }
   },
   "outputs": [
    {
     "output_type": "execute_result",
     "data": {
      "text/plain": [
       "True"
      ]
     },
     "execution_count": 7,
     "metadata": {},
     "output_type": "execute_result"
    }
   ],
   "source": [
    "dbutils.fs.mount(\n",
    "    source=\"wasbs://gold@dbtsparksa.blob.core.windows.net\",\n",
    "    mount_point=\"/mnt/gold\",\n",
    "    extra_configs = {'fs.azure.account.key.dbtsparksa.blob.core.windows.net':dbutils.secrets.get(scope=\"userScope\",key=\"dbt-spark-sa-access-key\")}\n",
    ")"
   ]
  },
  {
   "cell_type": "code",
   "execution_count": 0,
   "metadata": {
    "application/vnd.databricks.v1+cell": {
     "cellMetadata": {
      "byteLimit": 2048000,
      "implicitDf": true,
      "rowLimit": 10000
     },
     "inputWidgets": {},
     "nuid": "e2dcafd3-4b96-472b-af58-40f4b2ff4ec6",
     "showTitle": false,
     "title": ""
    }
   },
   "outputs": [
    {
     "output_type": "display_data",
     "data": {
      "text/html": [
       "<style scoped>\n",
       "  .table-result-container {\n",
       "    max-height: 300px;\n",
       "    overflow: auto;\n",
       "  }\n",
       "  table, th, td {\n",
       "    border: 1px solid black;\n",
       "    border-collapse: collapse;\n",
       "  }\n",
       "  th, td {\n",
       "    padding: 5px;\n",
       "  }\n",
       "  th {\n",
       "    text-align: left;\n",
       "  }\n",
       "</style><div class='table-result-container'><table class='table-result'><thead style='background-color: white'><tr></tr></thead><tbody></tbody></table></div>"
      ]
     },
     "metadata": {
      "application/vnd.databricks.v1+output": {
       "addedWidgets": {},
       "aggData": [],
       "aggError": "",
       "aggOverflow": false,
       "aggSchema": [],
       "aggSeriesLimitReached": false,
       "aggType": "",
       "arguments": {},
       "columnCustomDisplayInfos": {},
       "data": [],
       "datasetInfos": [],
       "dbfsResultPath": null,
       "isJsonSchema": true,
       "metadata": {
        "dataframeName": null
       },
       "overflow": false,
       "plotOptions": {
        "customPlotOptions": {},
        "displayType": "table",
        "pivotAggregation": null,
        "pivotColumns": null,
        "xColumns": null,
        "yColumns": null
       },
       "removedWidgets": [],
       "schema": [],
       "type": "table"
      }
     },
     "output_type": "display_data"
    }
   ],
   "source": [
    "%sql\n",
    "DROP table saleslt.sales;"
   ]
  },
  {
   "cell_type": "code",
   "execution_count": 0,
   "metadata": {
    "application/vnd.databricks.v1+cell": {
     "cellMetadata": {
      "byteLimit": 2048000,
      "rowLimit": 10000
     },
     "inputWidgets": {},
     "nuid": "78419abe-1263-4ac1-aeab-396c64168cdb",
     "showTitle": false,
     "title": ""
    }
   },
   "outputs": [
    {
     "output_type": "execute_result",
     "data": {
      "text/plain": [
       "[MountInfo(mountPoint='/databricks-datasets', source='databricks-datasets', encryptionType=''),\n",
       " MountInfo(mountPoint='/Volumes', source='UnityCatalogVolumes', encryptionType=''),\n",
       " MountInfo(mountPoint='/databricks/mlflow-tracking', source='databricks/mlflow-tracking', encryptionType=''),\n",
       " MountInfo(mountPoint='/databricks-results', source='databricks-results', encryptionType=''),\n",
       " MountInfo(mountPoint='/databricks/mlflow-registry', source='databricks/mlflow-registry', encryptionType=''),\n",
       " MountInfo(mountPoint='/mnt/bronze', source='wasbs://bronze@dbtsparksa.blob.core.windows.net', encryptionType=''),\n",
       " MountInfo(mountPoint='/Volume', source='DbfsReserved', encryptionType=''),\n",
       " MountInfo(mountPoint='/volumes', source='DbfsReserved', encryptionType=''),\n",
       " MountInfo(mountPoint='/', source='DatabricksRoot', encryptionType=''),\n",
       " MountInfo(mountPoint='/volume', source='DbfsReserved', encryptionType='')]"
      ]
     },
     "execution_count": 5,
     "metadata": {},
     "output_type": "execute_result"
    }
   ],
   "source": [
    "dbutils.fs.mounts()"
   ]
  },
  {
   "cell_type": "code",
   "execution_count": 0,
   "metadata": {
    "application/vnd.databricks.v1+cell": {
     "cellMetadata": {
      "byteLimit": 2048000,
      "rowLimit": 10000
     },
     "inputWidgets": {},
     "nuid": "287898de-ab49-4f31-b3ec-9128c9311120",
     "showTitle": false,
     "title": ""
    }
   },
   "outputs": [
    {
     "output_type": "stream",
     "name": "stdout",
     "output_type": "stream",
     "text": [
      "/mnt/silver has been unmounted.\n"
     ]
    },
    {
     "output_type": "execute_result",
     "data": {
      "text/plain": [
       "True"
      ]
     },
     "execution_count": 4,
     "metadata": {},
     "output_type": "execute_result"
    }
   ],
   "source": [
    "dbutils.fs.unmount('/mnt/silver')"
   ]
  },
  {
   "cell_type": "code",
   "execution_count": 0,
   "metadata": {
    "application/vnd.databricks.v1+cell": {
     "cellMetadata": {
      "byteLimit": 2048000,
      "rowLimit": 10000
     },
     "inputWidgets": {},
     "nuid": "2350e5bc-7f00-4b29-a746-0064b262c946",
     "showTitle": false,
     "title": ""
    }
   },
   "outputs": [
    {
     "output_type": "execute_result",
     "data": {
      "text/plain": [
       "[FileInfo(path='dbfs:/mnt/bronze/2023-12-19/SalesLT.Address.parquet', name='SalesLT.Address.parquet', size=35579, modificationTime=1702967634000),\n",
       " FileInfo(path='dbfs:/mnt/bronze/2023-12-19/SalesLT.Customer.parquet', name='SalesLT.Customer.parquet', size=99900, modificationTime=1702967631000),\n",
       " FileInfo(path='dbfs:/mnt/bronze/2023-12-19/SalesLT.CustomerAddress.parquet', name='SalesLT.CustomerAddress.parquet', size=21117, modificationTime=1702967633000),\n",
       " FileInfo(path='dbfs:/mnt/bronze/2023-12-19/SalesLT.Product.parquet', name='SalesLT.Product.parquet', size=196043, modificationTime=1702967634000),\n",
       " FileInfo(path='dbfs:/mnt/bronze/2023-12-19/SalesLT.ProductCategory.parquet', name='SalesLT.ProductCategory.parquet', size=3207, modificationTime=1702967634000),\n",
       " FileInfo(path='dbfs:/mnt/bronze/2023-12-19/SalesLT.ProductDescription.parquet', name='SalesLT.ProductDescription.parquet', size=77524, modificationTime=1702967631000),\n",
       " FileInfo(path='dbfs:/mnt/bronze/2023-12-19/SalesLT.ProductModel.parquet', name='SalesLT.ProductModel.parquet', size=11969, modificationTime=1702967633000),\n",
       " FileInfo(path='dbfs:/mnt/bronze/2023-12-19/SalesLT.ProductModelProductDescription.parquet', name='SalesLT.ProductModelProductDescription.parquet', size=33580, modificationTime=1702967635000),\n",
       " FileInfo(path='dbfs:/mnt/bronze/2023-12-19/SalesLT.SalesOrderDetail.parquet', name='SalesLT.SalesOrderDetail.parquet', size=30850, modificationTime=1702967631000),\n",
       " FileInfo(path='dbfs:/mnt/bronze/2023-12-19/SalesLT.SalesOrderHeader.parquet', name='SalesLT.SalesOrderHeader.parquet', size=6955, modificationTime=1702967632000)]"
      ]
     },
     "execution_count": 21,
     "metadata": {},
     "output_type": "execute_result"
    }
   ],
   "source": [
    "dbutils.fs.ls('/mnt/bronze/2023-12-19/')"
   ]
  },
  {
   "cell_type": "code",
   "execution_count": 0,
   "metadata": {
    "application/vnd.databricks.v1+cell": {
     "cellMetadata": {},
     "inputWidgets": {},
     "nuid": "8feffbbd-79fa-45c9-aefa-a2eb47c257cf",
     "showTitle": false,
     "title": ""
    }
   },
   "outputs": [],
   "source": [
    "#Create DB\n",
    "spark.sql(f'CREATE DATABASE IF NOT EXISTS {tableschema}')"
   ]
  },
  {
   "cell_type": "code",
   "execution_count": 0,
   "metadata": {
    "application/vnd.databricks.v1+cell": {
     "cellMetadata": {},
     "inputWidgets": {},
     "nuid": "5391366f-a077-412d-98e2-1855f124caa8",
     "showTitle": false,
     "title": ""
    }
   },
   "outputs": [],
   "source": [
    "#Create TABLE\n",
    "spark.sql(\"\"\"\n",
    "          CREATE TABLE IF NOT EXISTS \"\"\"+tableschema+\"\"\".\"\"\"+tablename+\"\"\"\n",
    "          USING PARQUET \n",
    "          LOCATION '/mnt/bronze/\"\"\"+filename+\"\"\"/\"\"\"+tableschema+\"\"\".\"\"\"+tablename+\"\"\".parquet'\n",
    "          \"\"\")"
   ]
  },
  {
   "cell_type": "code",
   "execution_count": 0,
   "metadata": {
    "application/vnd.databricks.v1+cell": {
     "cellMetadata": {
      "byteLimit": 2048000,
      "rowLimit": 10000
     },
     "inputWidgets": {},
     "nuid": "c3aa38f8-4827-40e9-b4cc-417cd0da6bf4",
     "showTitle": false,
     "title": ""
    }
   },
   "outputs": [
    {
     "output_type": "execute_result",
     "data": {
      "text/plain": [
       "DataFrame[]"
      ]
     },
     "execution_count": 22,
     "metadata": {},
     "output_type": "execute_result"
    }
   ],
   "source": [
    "spark.sql(\"\"\"\n",
    "          CREATE TABLE IF NOT EXISTS SalesLT.Address\n",
    "          USING PARQUET \n",
    "          LOCATION '/mnt/bronze/2023-12-19/SalesLT.Address.parquet'\n",
    "          \"\"\")\n",
    "\n",
    "spark.sql(\"\"\"\n",
    "          CREATE TABLE IF NOT EXISTS SalesLT.Customer\n",
    "          USING PARQUET \n",
    "          LOCATION '/mnt/bronze/2023-12-19/SalesLT.Customer.parquet'\n",
    "          \"\"\")         \n",
    "\n",
    "\n",
    "          \n",
    "spark.sql(\"\"\"\n",
    "          CREATE TABLE IF NOT EXISTS SalesLT.CustomerAddress\n",
    "          USING PARQUET \n",
    "          LOCATION '/mnt/bronze/2023-12-19/SalesLT.CustomerAddress.parquet'\n",
    "          \"\"\")   \n",
    "spark.sql(\"\"\"\n",
    "          CREATE TABLE IF NOT EXISTS SalesLT.Product\n",
    "          USING PARQUET \n",
    "          LOCATION '/mnt/bronze/2023-12-19/SalesLT.Product.parquet'\n",
    "          \"\"\")   \n",
    "spark.sql(\"\"\"\n",
    "          CREATE TABLE IF NOT EXISTS SalesLT.ProductCategory\n",
    "          USING PARQUET \n",
    "          LOCATION '/mnt/bronze/2023-12-19/SalesLT.ProductCategory.parquet'\n",
    "          \"\"\")   \n",
    "spark.sql(\"\"\"\n",
    "          CREATE TABLE IF NOT EXISTS SalesLT.ProductDescription\n",
    "          USING PARQUET \n",
    "          LOCATION '/mnt/bronze/2023-12-19/SalesLT.ProductDescription.parquet'\n",
    "          \"\"\")   \n",
    "spark.sql(\"\"\"\n",
    "          CREATE TABLE IF NOT EXISTS SalesLT.ProductModel\n",
    "          USING PARQUET \n",
    "          LOCATION '/mnt/bronze/2023-12-19/SalesLT.ProductModel.parquet'\n",
    "          \"\"\") \n",
    "spark.sql(\"\"\"\n",
    "          CREATE TABLE IF NOT EXISTS SalesLT.ProductModelProductDescription\n",
    "          USING PARQUET \n",
    "          LOCATION '/mnt/bronze/2023-12-19/SalesLT.ProductModelProductDescription.parquet'\n",
    "          \"\"\")    \n",
    "\n",
    "spark.sql(\"\"\"\n",
    "          CREATE TABLE IF NOT EXISTS SalesLT.SalesOrderDetail\n",
    "          USING PARQUET \n",
    "          LOCATION '/mnt/bronze/2023-12-19/SalesLT.SalesOrderDetail.parquet'\n",
    "          \"\"\")\n",
    "\n",
    "spark.sql(\"\"\"\n",
    "          CREATE TABLE IF NOT EXISTS SalesLT.SalesOrderHeader\n",
    "          USING PARQUET \n",
    "          LOCATION '/mnt/bronze/2023-12-19/SalesLT.SalesOrderHeader.parquet'\n",
    "          \"\"\")              "
   ]
  }
 ],
 "metadata": {
  "application/vnd.databricks.v1+notebook": {
   "dashboards": [],
   "language": "python",
   "notebookMetadata": {
    "mostRecentlyExecutedCommandWithImplicitDF": {
     "commandId": 2135590410027736,
     "dataframes": [
      "_sqldf"
     ]
    },
    "pythonIndentUnit": 4
   },
   "notebookName": "Spark DBT Bronze Notebook",
   "widgets": {}
  }
 },
 "nbformat": 4,
 "nbformat_minor": 0
}
